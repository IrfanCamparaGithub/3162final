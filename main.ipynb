{
 "cells": [
  {
   "cell_type": "markdown",
   "metadata": {
    "id": "Nz1ofWy6AFD_"
   },
   "source": [
    "# **Understanding the data**"
   ]
  },
  {
   "cell_type": "code",
   "execution_count": 64,
   "metadata": {
    "colab": {
     "base_uri": "https://localhost:8080/",
     "height": 470
    },
    "id": "HhZhx6Bu87bJ",
    "outputId": "60ccc402-3c89-47ea-bc75-93a2775d950b"
   },
   "outputs": [
    {
     "data": {
      "text/html": [
       "<div>\n",
       "<style scoped>\n",
       "    .dataframe tbody tr th:only-of-type {\n",
       "        vertical-align: middle;\n",
       "    }\n",
       "\n",
       "    .dataframe tbody tr th {\n",
       "        vertical-align: top;\n",
       "    }\n",
       "\n",
       "    .dataframe thead th {\n",
       "        text-align: right;\n",
       "    }\n",
       "</style>\n",
       "<table border=\"1\" class=\"dataframe\">\n",
       "  <thead>\n",
       "    <tr style=\"text-align: right;\">\n",
       "      <th></th>\n",
       "      <th>Temperature</th>\n",
       "      <th>Humidity</th>\n",
       "      <th>Wind Speed</th>\n",
       "      <th>Precipitation (%)</th>\n",
       "      <th>Cloud Cover</th>\n",
       "      <th>Atmospheric Pressure</th>\n",
       "      <th>UV Index</th>\n",
       "      <th>Season</th>\n",
       "      <th>Visibility (km)</th>\n",
       "      <th>Location</th>\n",
       "      <th>Weather Type</th>\n",
       "    </tr>\n",
       "  </thead>\n",
       "  <tbody>\n",
       "    <tr>\n",
       "      <th>0</th>\n",
       "      <td>14.0</td>\n",
       "      <td>73</td>\n",
       "      <td>9.5</td>\n",
       "      <td>82.0</td>\n",
       "      <td>partly cloudy</td>\n",
       "      <td>1010.82</td>\n",
       "      <td>2</td>\n",
       "      <td>Winter</td>\n",
       "      <td>3.5</td>\n",
       "      <td>inland</td>\n",
       "      <td>Rainy</td>\n",
       "    </tr>\n",
       "    <tr>\n",
       "      <th>1</th>\n",
       "      <td>39.0</td>\n",
       "      <td>96</td>\n",
       "      <td>8.5</td>\n",
       "      <td>71.0</td>\n",
       "      <td>partly cloudy</td>\n",
       "      <td>1011.43</td>\n",
       "      <td>7</td>\n",
       "      <td>Spring</td>\n",
       "      <td>10.0</td>\n",
       "      <td>inland</td>\n",
       "      <td>Cloudy</td>\n",
       "    </tr>\n",
       "    <tr>\n",
       "      <th>2</th>\n",
       "      <td>30.0</td>\n",
       "      <td>64</td>\n",
       "      <td>7.0</td>\n",
       "      <td>16.0</td>\n",
       "      <td>clear</td>\n",
       "      <td>1018.72</td>\n",
       "      <td>5</td>\n",
       "      <td>Spring</td>\n",
       "      <td>5.5</td>\n",
       "      <td>mountain</td>\n",
       "      <td>Sunny</td>\n",
       "    </tr>\n",
       "    <tr>\n",
       "      <th>3</th>\n",
       "      <td>38.0</td>\n",
       "      <td>83</td>\n",
       "      <td>1.5</td>\n",
       "      <td>82.0</td>\n",
       "      <td>clear</td>\n",
       "      <td>1026.25</td>\n",
       "      <td>7</td>\n",
       "      <td>Spring</td>\n",
       "      <td>1.0</td>\n",
       "      <td>coastal</td>\n",
       "      <td>Sunny</td>\n",
       "    </tr>\n",
       "    <tr>\n",
       "      <th>4</th>\n",
       "      <td>27.0</td>\n",
       "      <td>74</td>\n",
       "      <td>17.0</td>\n",
       "      <td>66.0</td>\n",
       "      <td>overcast</td>\n",
       "      <td>990.67</td>\n",
       "      <td>1</td>\n",
       "      <td>Winter</td>\n",
       "      <td>2.5</td>\n",
       "      <td>mountain</td>\n",
       "      <td>Rainy</td>\n",
       "    </tr>\n",
       "    <tr>\n",
       "      <th>...</th>\n",
       "      <td>...</td>\n",
       "      <td>...</td>\n",
       "      <td>...</td>\n",
       "      <td>...</td>\n",
       "      <td>...</td>\n",
       "      <td>...</td>\n",
       "      <td>...</td>\n",
       "      <td>...</td>\n",
       "      <td>...</td>\n",
       "      <td>...</td>\n",
       "      <td>...</td>\n",
       "    </tr>\n",
       "    <tr>\n",
       "      <th>13195</th>\n",
       "      <td>10.0</td>\n",
       "      <td>74</td>\n",
       "      <td>14.5</td>\n",
       "      <td>71.0</td>\n",
       "      <td>overcast</td>\n",
       "      <td>1003.15</td>\n",
       "      <td>1</td>\n",
       "      <td>Summer</td>\n",
       "      <td>1.0</td>\n",
       "      <td>mountain</td>\n",
       "      <td>Rainy</td>\n",
       "    </tr>\n",
       "    <tr>\n",
       "      <th>13196</th>\n",
       "      <td>-1.0</td>\n",
       "      <td>76</td>\n",
       "      <td>3.5</td>\n",
       "      <td>23.0</td>\n",
       "      <td>cloudy</td>\n",
       "      <td>1067.23</td>\n",
       "      <td>1</td>\n",
       "      <td>Winter</td>\n",
       "      <td>6.0</td>\n",
       "      <td>coastal</td>\n",
       "      <td>Snowy</td>\n",
       "    </tr>\n",
       "    <tr>\n",
       "      <th>13197</th>\n",
       "      <td>30.0</td>\n",
       "      <td>77</td>\n",
       "      <td>5.5</td>\n",
       "      <td>28.0</td>\n",
       "      <td>overcast</td>\n",
       "      <td>1012.69</td>\n",
       "      <td>3</td>\n",
       "      <td>Autumn</td>\n",
       "      <td>9.0</td>\n",
       "      <td>coastal</td>\n",
       "      <td>Cloudy</td>\n",
       "    </tr>\n",
       "    <tr>\n",
       "      <th>13198</th>\n",
       "      <td>3.0</td>\n",
       "      <td>76</td>\n",
       "      <td>10.0</td>\n",
       "      <td>94.0</td>\n",
       "      <td>overcast</td>\n",
       "      <td>984.27</td>\n",
       "      <td>0</td>\n",
       "      <td>Winter</td>\n",
       "      <td>2.0</td>\n",
       "      <td>inland</td>\n",
       "      <td>Snowy</td>\n",
       "    </tr>\n",
       "    <tr>\n",
       "      <th>13199</th>\n",
       "      <td>-5.0</td>\n",
       "      <td>38</td>\n",
       "      <td>0.0</td>\n",
       "      <td>92.0</td>\n",
       "      <td>overcast</td>\n",
       "      <td>1015.37</td>\n",
       "      <td>5</td>\n",
       "      <td>Autumn</td>\n",
       "      <td>10.0</td>\n",
       "      <td>mountain</td>\n",
       "      <td>Rainy</td>\n",
       "    </tr>\n",
       "  </tbody>\n",
       "</table>\n",
       "<p>13200 rows × 11 columns</p>\n",
       "</div>"
      ],
      "text/plain": [
       "       Temperature  Humidity  Wind Speed  Precipitation (%)    Cloud Cover  \\\n",
       "0             14.0        73         9.5               82.0  partly cloudy   \n",
       "1             39.0        96         8.5               71.0  partly cloudy   \n",
       "2             30.0        64         7.0               16.0          clear   \n",
       "3             38.0        83         1.5               82.0          clear   \n",
       "4             27.0        74        17.0               66.0       overcast   \n",
       "...            ...       ...         ...                ...            ...   \n",
       "13195         10.0        74        14.5               71.0       overcast   \n",
       "13196         -1.0        76         3.5               23.0         cloudy   \n",
       "13197         30.0        77         5.5               28.0       overcast   \n",
       "13198          3.0        76        10.0               94.0       overcast   \n",
       "13199         -5.0        38         0.0               92.0       overcast   \n",
       "\n",
       "       Atmospheric Pressure  UV Index  Season  Visibility (km)  Location  \\\n",
       "0                   1010.82         2  Winter              3.5    inland   \n",
       "1                   1011.43         7  Spring             10.0    inland   \n",
       "2                   1018.72         5  Spring              5.5  mountain   \n",
       "3                   1026.25         7  Spring              1.0   coastal   \n",
       "4                    990.67         1  Winter              2.5  mountain   \n",
       "...                     ...       ...     ...              ...       ...   \n",
       "13195               1003.15         1  Summer              1.0  mountain   \n",
       "13196               1067.23         1  Winter              6.0   coastal   \n",
       "13197               1012.69         3  Autumn              9.0   coastal   \n",
       "13198                984.27         0  Winter              2.0    inland   \n",
       "13199               1015.37         5  Autumn             10.0  mountain   \n",
       "\n",
       "      Weather Type  \n",
       "0            Rainy  \n",
       "1           Cloudy  \n",
       "2            Sunny  \n",
       "3            Sunny  \n",
       "4            Rainy  \n",
       "...            ...  \n",
       "13195        Rainy  \n",
       "13196        Snowy  \n",
       "13197       Cloudy  \n",
       "13198        Snowy  \n",
       "13199        Rainy  \n",
       "\n",
       "[13200 rows x 11 columns]"
      ]
     },
     "execution_count": 64,
     "metadata": {},
     "output_type": "execute_result"
    }
   ],
   "source": [
    "import pandas as pd\n",
    "\n",
    "weatherDF = pd.read_csv('weather_classification_data.csv')\n",
    "weatherDF"
   ]
  },
  {
   "cell_type": "code",
   "execution_count": 66,
   "metadata": {
    "colab": {
     "base_uri": "https://localhost:8080/",
     "height": 297
    },
    "id": "dl09LKFZ87bK",
    "outputId": "6cbbf0cd-7882-4e99-c7b9-c738f8a61c36"
   },
   "outputs": [
    {
     "data": {
      "text/html": [
       "<div>\n",
       "<style scoped>\n",
       "    .dataframe tbody tr th:only-of-type {\n",
       "        vertical-align: middle;\n",
       "    }\n",
       "\n",
       "    .dataframe tbody tr th {\n",
       "        vertical-align: top;\n",
       "    }\n",
       "\n",
       "    .dataframe thead th {\n",
       "        text-align: right;\n",
       "    }\n",
       "</style>\n",
       "<table border=\"1\" class=\"dataframe\">\n",
       "  <thead>\n",
       "    <tr style=\"text-align: right;\">\n",
       "      <th></th>\n",
       "      <th>Temperature</th>\n",
       "      <th>Humidity</th>\n",
       "      <th>Wind Speed</th>\n",
       "      <th>Precipitation (%)</th>\n",
       "      <th>Atmospheric Pressure</th>\n",
       "      <th>UV Index</th>\n",
       "      <th>Visibility (km)</th>\n",
       "    </tr>\n",
       "  </thead>\n",
       "  <tbody>\n",
       "    <tr>\n",
       "      <th>count</th>\n",
       "      <td>13200.000000</td>\n",
       "      <td>13200.000000</td>\n",
       "      <td>13200.000000</td>\n",
       "      <td>13200.000000</td>\n",
       "      <td>13200.000000</td>\n",
       "      <td>13200.000000</td>\n",
       "      <td>13200.000000</td>\n",
       "    </tr>\n",
       "    <tr>\n",
       "      <th>mean</th>\n",
       "      <td>19.127576</td>\n",
       "      <td>68.710833</td>\n",
       "      <td>9.832197</td>\n",
       "      <td>53.644394</td>\n",
       "      <td>1005.827896</td>\n",
       "      <td>4.005758</td>\n",
       "      <td>5.462917</td>\n",
       "    </tr>\n",
       "    <tr>\n",
       "      <th>std</th>\n",
       "      <td>17.386327</td>\n",
       "      <td>20.194248</td>\n",
       "      <td>6.908704</td>\n",
       "      <td>31.946541</td>\n",
       "      <td>37.199589</td>\n",
       "      <td>3.856600</td>\n",
       "      <td>3.371499</td>\n",
       "    </tr>\n",
       "    <tr>\n",
       "      <th>min</th>\n",
       "      <td>-25.000000</td>\n",
       "      <td>20.000000</td>\n",
       "      <td>0.000000</td>\n",
       "      <td>0.000000</td>\n",
       "      <td>800.120000</td>\n",
       "      <td>0.000000</td>\n",
       "      <td>0.000000</td>\n",
       "    </tr>\n",
       "    <tr>\n",
       "      <th>25%</th>\n",
       "      <td>4.000000</td>\n",
       "      <td>57.000000</td>\n",
       "      <td>5.000000</td>\n",
       "      <td>19.000000</td>\n",
       "      <td>994.800000</td>\n",
       "      <td>1.000000</td>\n",
       "      <td>3.000000</td>\n",
       "    </tr>\n",
       "    <tr>\n",
       "      <th>50%</th>\n",
       "      <td>21.000000</td>\n",
       "      <td>70.000000</td>\n",
       "      <td>9.000000</td>\n",
       "      <td>58.000000</td>\n",
       "      <td>1007.650000</td>\n",
       "      <td>3.000000</td>\n",
       "      <td>5.000000</td>\n",
       "    </tr>\n",
       "    <tr>\n",
       "      <th>75%</th>\n",
       "      <td>31.000000</td>\n",
       "      <td>84.000000</td>\n",
       "      <td>13.500000</td>\n",
       "      <td>82.000000</td>\n",
       "      <td>1016.772500</td>\n",
       "      <td>7.000000</td>\n",
       "      <td>7.500000</td>\n",
       "    </tr>\n",
       "    <tr>\n",
       "      <th>max</th>\n",
       "      <td>109.000000</td>\n",
       "      <td>109.000000</td>\n",
       "      <td>48.500000</td>\n",
       "      <td>109.000000</td>\n",
       "      <td>1199.210000</td>\n",
       "      <td>14.000000</td>\n",
       "      <td>20.000000</td>\n",
       "    </tr>\n",
       "  </tbody>\n",
       "</table>\n",
       "</div>"
      ],
      "text/plain": [
       "        Temperature      Humidity    Wind Speed  Precipitation (%)  \\\n",
       "count  13200.000000  13200.000000  13200.000000       13200.000000   \n",
       "mean      19.127576     68.710833      9.832197          53.644394   \n",
       "std       17.386327     20.194248      6.908704          31.946541   \n",
       "min      -25.000000     20.000000      0.000000           0.000000   \n",
       "25%        4.000000     57.000000      5.000000          19.000000   \n",
       "50%       21.000000     70.000000      9.000000          58.000000   \n",
       "75%       31.000000     84.000000     13.500000          82.000000   \n",
       "max      109.000000    109.000000     48.500000         109.000000   \n",
       "\n",
       "       Atmospheric Pressure      UV Index  Visibility (km)  \n",
       "count          13200.000000  13200.000000     13200.000000  \n",
       "mean            1005.827896      4.005758         5.462917  \n",
       "std               37.199589      3.856600         3.371499  \n",
       "min              800.120000      0.000000         0.000000  \n",
       "25%              994.800000      1.000000         3.000000  \n",
       "50%             1007.650000      3.000000         5.000000  \n",
       "75%             1016.772500      7.000000         7.500000  \n",
       "max             1199.210000     14.000000        20.000000  "
      ]
     },
     "execution_count": 66,
     "metadata": {},
     "output_type": "execute_result"
    }
   ],
   "source": [
    "weatherDF.describe()"
   ]
  },
  {
   "cell_type": "code",
   "execution_count": 68,
   "metadata": {
    "colab": {
     "base_uri": "https://localhost:8080/",
     "height": 424
    },
    "id": "d65S8J9x87bK",
    "outputId": "19708b20-17f9-4cf0-f85a-74e8e8b22b9b"
   },
   "outputs": [
    {
     "data": {
      "text/plain": [
       "Temperature             False\n",
       "Humidity                False\n",
       "Wind Speed              False\n",
       "Precipitation (%)       False\n",
       "Cloud Cover             False\n",
       "Atmospheric Pressure    False\n",
       "UV Index                False\n",
       "Season                  False\n",
       "Visibility (km)         False\n",
       "Location                False\n",
       "Weather Type            False\n",
       "dtype: bool"
      ]
     },
     "execution_count": 68,
     "metadata": {},
     "output_type": "execute_result"
    }
   ],
   "source": [
    "weatherDF.isna().any()"
   ]
  },
  {
   "cell_type": "markdown",
   "metadata": {
    "id": "CN-LrfXUBdat"
   },
   "source": [
    "# **Preprocessing the Data**\n",
    "\n",
    "Before performing any analysis or modeling, we need to ensure the data is clean and usable."
   ]
  },
  {
   "cell_type": "code",
   "execution_count": 71,
   "metadata": {
    "colab": {
     "base_uri": "https://localhost:8080/",
     "height": 424
    },
    "id": "NGip8m6C87bK",
    "outputId": "edb56b58-4148-4633-aabb-2bc2c909d011"
   },
   "outputs": [
    {
     "data": {
      "text/plain": [
       "Temperature             float64\n",
       "Humidity                  int64\n",
       "Wind Speed              float64\n",
       "Precipitation (%)       float64\n",
       "Cloud Cover              object\n",
       "Atmospheric Pressure    float64\n",
       "UV Index                  int64\n",
       "Season                   object\n",
       "Visibility (km)         float64\n",
       "Location                 object\n",
       "Weather Type             object\n",
       "dtype: object"
      ]
     },
     "execution_count": 71,
     "metadata": {},
     "output_type": "execute_result"
    }
   ],
   "source": [
    "weatherDF.dtypes\n",
    "##need to remove objects/strings"
   ]
  },
  {
   "cell_type": "code",
   "execution_count": 73,
   "metadata": {
    "colab": {
     "base_uri": "https://localhost:8080/"
    },
    "id": "LUn8Amhn87bK",
    "outputId": "f0dce433-6e00-416c-b1f8-cda8ec28997f"
   },
   "outputs": [
    {
     "name": "stdout",
     "output_type": "stream",
     "text": [
      "['partly cloudy' 'clear' 'overcast' 'cloudy']\n",
      "['Winter' 'Spring' 'Summer' 'Autumn']\n",
      "['inland' 'mountain' 'coastal']\n",
      "['Rainy' 'Cloudy' 'Sunny' 'Snowy']\n"
     ]
    }
   ],
   "source": [
    "print(weatherDF['Cloud Cover'].unique())\n",
    "print(weatherDF['Season'].unique())\n",
    "print(weatherDF['Location'].unique())\n",
    "print(weatherDF['Weather Type'].unique())"
   ]
  },
  {
   "cell_type": "code",
   "execution_count": 75,
   "metadata": {
    "colab": {
     "base_uri": "https://localhost:8080/"
    },
    "id": "W-T0AzpV87bK",
    "outputId": "9d2303a0-935e-427c-e266-4d6f34a07d9f"
   },
   "outputs": [
    {
     "name": "stdout",
     "output_type": "stream",
     "text": [
      "[1 0 2 3]\n",
      "[1 0 2 3]\n",
      "[1 0 2]\n",
      "[1 0 2 3]\n"
     ]
    },
    {
     "name": "stderr",
     "output_type": "stream",
     "text": [
      "/var/folders/2z/g5mwfrw92l1b2plq_z6tl8k80000gn/T/ipykernel_37687/1862078925.py:1: FutureWarning: Downcasting behavior in `replace` is deprecated and will be removed in a future version. To retain the old behavior, explicitly call `result.infer_objects(copy=False)`. To opt-in to the future behavior, set `pd.set_option('future.no_silent_downcasting', True)`\n",
      "  weatherDF['Cloud Cover'] = weatherDF['Cloud Cover'].replace({'partly cloudy': 1, 'clear': 0, 'overcast': 2, 'cloudy': 3})\n",
      "/var/folders/2z/g5mwfrw92l1b2plq_z6tl8k80000gn/T/ipykernel_37687/1862078925.py:2: FutureWarning: Downcasting behavior in `replace` is deprecated and will be removed in a future version. To retain the old behavior, explicitly call `result.infer_objects(copy=False)`. To opt-in to the future behavior, set `pd.set_option('future.no_silent_downcasting', True)`\n",
      "  weatherDF['Season'] = weatherDF['Season'].replace({'Winter': 1, 'Spring': 0, 'Summer' : 2, 'Autumn' : 3})\n",
      "/var/folders/2z/g5mwfrw92l1b2plq_z6tl8k80000gn/T/ipykernel_37687/1862078925.py:3: FutureWarning: Downcasting behavior in `replace` is deprecated and will be removed in a future version. To retain the old behavior, explicitly call `result.infer_objects(copy=False)`. To opt-in to the future behavior, set `pd.set_option('future.no_silent_downcasting', True)`\n",
      "  weatherDF['Location'] = weatherDF['Location'].replace({'inland': 1, 'mountain': 0, 'coastal': 2})\n",
      "/var/folders/2z/g5mwfrw92l1b2plq_z6tl8k80000gn/T/ipykernel_37687/1862078925.py:4: FutureWarning: Downcasting behavior in `replace` is deprecated and will be removed in a future version. To retain the old behavior, explicitly call `result.infer_objects(copy=False)`. To opt-in to the future behavior, set `pd.set_option('future.no_silent_downcasting', True)`\n",
      "  weatherDF['Weather Type'] = weatherDF['Weather Type'].replace({'Rainy': 1, 'Cloudy': 0, 'Sunny': 2, 'Snowy': 3})\n"
     ]
    }
   ],
   "source": [
    "weatherDF['Cloud Cover'] = weatherDF['Cloud Cover'].replace({'partly cloudy': 1, 'clear': 0, 'overcast': 2, 'cloudy': 3})\n",
    "weatherDF['Season'] = weatherDF['Season'].replace({'Winter': 1, 'Spring': 0, 'Summer' : 2, 'Autumn' : 3})\n",
    "weatherDF['Location'] = weatherDF['Location'].replace({'inland': 1, 'mountain': 0, 'coastal': 2})\n",
    "weatherDF['Weather Type'] = weatherDF['Weather Type'].replace({'Rainy': 1, 'Cloudy': 0, 'Sunny': 2, 'Snowy': 3})\n",
    "print(weatherDF['Cloud Cover'].unique())\n",
    "print(weatherDF['Season'].unique())\n",
    "print(weatherDF['Location'].unique())\n",
    "print(weatherDF['Weather Type'].unique())"
   ]
  },
  {
   "cell_type": "code",
   "execution_count": 77,
   "metadata": {
    "colab": {
     "base_uri": "https://localhost:8080/",
     "height": 424
    },
    "id": "Oo0bvDRB87bL",
    "outputId": "84621bef-92eb-4051-fa8f-e6336587da56"
   },
   "outputs": [
    {
     "data": {
      "text/plain": [
       "Temperature             float64\n",
       "Humidity                  int64\n",
       "Wind Speed              float64\n",
       "Precipitation (%)       float64\n",
       "Cloud Cover               int64\n",
       "Atmospheric Pressure    float64\n",
       "UV Index                  int64\n",
       "Season                    int64\n",
       "Visibility (km)         float64\n",
       "Location                  int64\n",
       "Weather Type              int64\n",
       "dtype: object"
      ]
     },
     "execution_count": 77,
     "metadata": {},
     "output_type": "execute_result"
    }
   ],
   "source": [
    "weatherDF.dtypes"
   ]
  },
  {
   "cell_type": "code",
   "execution_count": 79,
   "metadata": {
    "colab": {
     "base_uri": "https://localhost:8080/",
     "height": 436
    },
    "id": "0W3tgRUx87bL",
    "outputId": "4b021908-bb05-4f39-b1b6-22670b2f87c4"
   },
   "outputs": [
    {
     "data": {
      "text/html": [
       "<div>\n",
       "<style scoped>\n",
       "    .dataframe tbody tr th:only-of-type {\n",
       "        vertical-align: middle;\n",
       "    }\n",
       "\n",
       "    .dataframe tbody tr th {\n",
       "        vertical-align: top;\n",
       "    }\n",
       "\n",
       "    .dataframe thead th {\n",
       "        text-align: right;\n",
       "    }\n",
       "</style>\n",
       "<table border=\"1\" class=\"dataframe\">\n",
       "  <thead>\n",
       "    <tr style=\"text-align: right;\">\n",
       "      <th></th>\n",
       "      <th>Temperature</th>\n",
       "      <th>Humidity</th>\n",
       "      <th>Wind Speed</th>\n",
       "      <th>Precipitation (%)</th>\n",
       "      <th>Cloud Cover</th>\n",
       "      <th>Atmospheric Pressure</th>\n",
       "      <th>UV Index</th>\n",
       "      <th>Season</th>\n",
       "      <th>Visibility (km)</th>\n",
       "      <th>Location</th>\n",
       "      <th>Weather Type</th>\n",
       "    </tr>\n",
       "  </thead>\n",
       "  <tbody>\n",
       "    <tr>\n",
       "      <th>0</th>\n",
       "      <td>14.0</td>\n",
       "      <td>73</td>\n",
       "      <td>9.5</td>\n",
       "      <td>82.0</td>\n",
       "      <td>1</td>\n",
       "      <td>1010.82</td>\n",
       "      <td>2</td>\n",
       "      <td>1</td>\n",
       "      <td>3.5</td>\n",
       "      <td>1</td>\n",
       "      <td>1</td>\n",
       "    </tr>\n",
       "    <tr>\n",
       "      <th>1</th>\n",
       "      <td>39.0</td>\n",
       "      <td>96</td>\n",
       "      <td>8.5</td>\n",
       "      <td>71.0</td>\n",
       "      <td>1</td>\n",
       "      <td>1011.43</td>\n",
       "      <td>7</td>\n",
       "      <td>0</td>\n",
       "      <td>10.0</td>\n",
       "      <td>1</td>\n",
       "      <td>0</td>\n",
       "    </tr>\n",
       "    <tr>\n",
       "      <th>2</th>\n",
       "      <td>30.0</td>\n",
       "      <td>64</td>\n",
       "      <td>7.0</td>\n",
       "      <td>16.0</td>\n",
       "      <td>0</td>\n",
       "      <td>1018.72</td>\n",
       "      <td>5</td>\n",
       "      <td>0</td>\n",
       "      <td>5.5</td>\n",
       "      <td>0</td>\n",
       "      <td>2</td>\n",
       "    </tr>\n",
       "    <tr>\n",
       "      <th>3</th>\n",
       "      <td>38.0</td>\n",
       "      <td>83</td>\n",
       "      <td>1.5</td>\n",
       "      <td>82.0</td>\n",
       "      <td>0</td>\n",
       "      <td>1026.25</td>\n",
       "      <td>7</td>\n",
       "      <td>0</td>\n",
       "      <td>1.0</td>\n",
       "      <td>2</td>\n",
       "      <td>2</td>\n",
       "    </tr>\n",
       "    <tr>\n",
       "      <th>4</th>\n",
       "      <td>27.0</td>\n",
       "      <td>74</td>\n",
       "      <td>17.0</td>\n",
       "      <td>66.0</td>\n",
       "      <td>2</td>\n",
       "      <td>990.67</td>\n",
       "      <td>1</td>\n",
       "      <td>1</td>\n",
       "      <td>2.5</td>\n",
       "      <td>0</td>\n",
       "      <td>1</td>\n",
       "    </tr>\n",
       "    <tr>\n",
       "      <th>...</th>\n",
       "      <td>...</td>\n",
       "      <td>...</td>\n",
       "      <td>...</td>\n",
       "      <td>...</td>\n",
       "      <td>...</td>\n",
       "      <td>...</td>\n",
       "      <td>...</td>\n",
       "      <td>...</td>\n",
       "      <td>...</td>\n",
       "      <td>...</td>\n",
       "      <td>...</td>\n",
       "    </tr>\n",
       "    <tr>\n",
       "      <th>13195</th>\n",
       "      <td>10.0</td>\n",
       "      <td>74</td>\n",
       "      <td>14.5</td>\n",
       "      <td>71.0</td>\n",
       "      <td>2</td>\n",
       "      <td>1003.15</td>\n",
       "      <td>1</td>\n",
       "      <td>2</td>\n",
       "      <td>1.0</td>\n",
       "      <td>0</td>\n",
       "      <td>1</td>\n",
       "    </tr>\n",
       "    <tr>\n",
       "      <th>13196</th>\n",
       "      <td>-1.0</td>\n",
       "      <td>76</td>\n",
       "      <td>3.5</td>\n",
       "      <td>23.0</td>\n",
       "      <td>3</td>\n",
       "      <td>1067.23</td>\n",
       "      <td>1</td>\n",
       "      <td>1</td>\n",
       "      <td>6.0</td>\n",
       "      <td>2</td>\n",
       "      <td>3</td>\n",
       "    </tr>\n",
       "    <tr>\n",
       "      <th>13197</th>\n",
       "      <td>30.0</td>\n",
       "      <td>77</td>\n",
       "      <td>5.5</td>\n",
       "      <td>28.0</td>\n",
       "      <td>2</td>\n",
       "      <td>1012.69</td>\n",
       "      <td>3</td>\n",
       "      <td>3</td>\n",
       "      <td>9.0</td>\n",
       "      <td>2</td>\n",
       "      <td>0</td>\n",
       "    </tr>\n",
       "    <tr>\n",
       "      <th>13198</th>\n",
       "      <td>3.0</td>\n",
       "      <td>76</td>\n",
       "      <td>10.0</td>\n",
       "      <td>94.0</td>\n",
       "      <td>2</td>\n",
       "      <td>984.27</td>\n",
       "      <td>0</td>\n",
       "      <td>1</td>\n",
       "      <td>2.0</td>\n",
       "      <td>1</td>\n",
       "      <td>3</td>\n",
       "    </tr>\n",
       "    <tr>\n",
       "      <th>13199</th>\n",
       "      <td>-5.0</td>\n",
       "      <td>38</td>\n",
       "      <td>0.0</td>\n",
       "      <td>92.0</td>\n",
       "      <td>2</td>\n",
       "      <td>1015.37</td>\n",
       "      <td>5</td>\n",
       "      <td>3</td>\n",
       "      <td>10.0</td>\n",
       "      <td>0</td>\n",
       "      <td>1</td>\n",
       "    </tr>\n",
       "  </tbody>\n",
       "</table>\n",
       "<p>13200 rows × 11 columns</p>\n",
       "</div>"
      ],
      "text/plain": [
       "       Temperature  Humidity  Wind Speed  Precipitation (%)  Cloud Cover  \\\n",
       "0             14.0        73         9.5               82.0            1   \n",
       "1             39.0        96         8.5               71.0            1   \n",
       "2             30.0        64         7.0               16.0            0   \n",
       "3             38.0        83         1.5               82.0            0   \n",
       "4             27.0        74        17.0               66.0            2   \n",
       "...            ...       ...         ...                ...          ...   \n",
       "13195         10.0        74        14.5               71.0            2   \n",
       "13196         -1.0        76         3.5               23.0            3   \n",
       "13197         30.0        77         5.5               28.0            2   \n",
       "13198          3.0        76        10.0               94.0            2   \n",
       "13199         -5.0        38         0.0               92.0            2   \n",
       "\n",
       "       Atmospheric Pressure  UV Index  Season  Visibility (km)  Location  \\\n",
       "0                   1010.82         2       1              3.5         1   \n",
       "1                   1011.43         7       0             10.0         1   \n",
       "2                   1018.72         5       0              5.5         0   \n",
       "3                   1026.25         7       0              1.0         2   \n",
       "4                    990.67         1       1              2.5         0   \n",
       "...                     ...       ...     ...              ...       ...   \n",
       "13195               1003.15         1       2              1.0         0   \n",
       "13196               1067.23         1       1              6.0         2   \n",
       "13197               1012.69         3       3              9.0         2   \n",
       "13198                984.27         0       1              2.0         1   \n",
       "13199               1015.37         5       3             10.0         0   \n",
       "\n",
       "       Weather Type  \n",
       "0                 1  \n",
       "1                 0  \n",
       "2                 2  \n",
       "3                 2  \n",
       "4                 1  \n",
       "...             ...  \n",
       "13195             1  \n",
       "13196             3  \n",
       "13197             0  \n",
       "13198             3  \n",
       "13199             1  \n",
       "\n",
       "[13200 rows x 11 columns]"
      ]
     },
     "execution_count": 79,
     "metadata": {},
     "output_type": "execute_result"
    }
   ],
   "source": [
    "weatherDF"
   ]
  },
  {
   "cell_type": "markdown",
   "metadata": {
    "id": "Wcie1uXFBjAa"
   },
   "source": [
    "# **Data Visualizations**"
   ]
  },
  {
   "cell_type": "code",
   "execution_count": 82,
   "metadata": {
    "colab": {
     "base_uri": "https://localhost:8080/",
     "height": 712
    },
    "id": "JtHFb5Ep87bL",
    "outputId": "ee1a3b71-9096-42c9-af40-e539fa48034a"
   },
   "outputs": [
    {
     "data": {
      "text/plain": [
       "<Axes: >"
      ]
     },
     "execution_count": 82,
     "metadata": {},
     "output_type": "execute_result"
    },
    {
     "data": {
      "image/png": "[encoded data removed]",
      "text/plain": [
       "<Figure size 640x480 with 2 Axes>"
      ]
     },
     "metadata": {},
     "output_type": "display_data"
    }
   ],
   "source": [
    "import seaborn as sns\n",
    "sns.heatmap(weatherDF.corr(), annot=True, cmap='rocket_r', fmt='.2f', annot_kws={\"size\": 6})"
   ]
  },
  {
   "cell_type": "code",
   "execution_count": 83,
   "metadata": {
    "colab": {
     "base_uri": "https://localhost:8080/",
     "height": 523
    },
    "id": "uqtxZo4v87bL",
    "outputId": "bb92aab3-52b4-4ef6-a10b-d6645e0f81b3"
   },
   "outputs": [
    {
     "data": {
      "text/plain": [
       "(array([3300.,    0.,    0., 3300.,    0.,    0., 3300.,    0.,    0.,\n",
       "        3300.]),\n",
       " array([0. , 0.3, 0.6, 0.9, 1.2, 1.5, 1.8, 2.1, 2.4, 2.7, 3. ]),\n",
       " <BarContainer object of 10 artists>)"
      ]
     },
     "execution_count": 83,
     "metadata": {},
     "output_type": "execute_result"
    },
    {
     "data": {
      "image/png": "[encoded data removed]",
      "text/plain": [
       "<Figure size 640x480 with 1 Axes>"
      ]
     },
     "metadata": {},
     "output_type": "display_data"
    }
   ],
   "source": [
    "import matplotlib.pyplot as plt ##weather types histplot to see if equal dist\n",
    "plt.hist(weatherDF['Weather Type'])"
   ]
  },
  {
   "cell_type": "markdown",
   "metadata": {
    "id": "RaREF2GU87bL"
   },
   "source": [
    "If anyone is more creative than me please try and add 1 or 2 more visualizations"
   ]
  },
  {
   "cell_type": "markdown",
   "metadata": {
    "id": "MOSzfIdZBsEF"
   },
   "source": [
    "# **Spliting Data**\n",
    "\n",
    "We will need to split our data into train and testing using the train_test_split function so the model to pick up trends and make predictions. Our data will contain everthing from the dataset, except for the last column which is our target value ('Weather Type'). The parameter 'test_size' wil be set to 0.20 so we can have a 80/20 split for our traing and testing sets."
   ]
  },
  {
   "cell_type": "code",
   "execution_count": 88,
   "metadata": {
    "colab": {
     "base_uri": "https://localhost:8080/"
    },
    "id": "LfOwyDVR87bL",
    "outputId": "83a52b45-ed0a-4ef8-d86d-9894ac433fc7"
   },
   "outputs": [
    {
     "name": "stdout",
     "output_type": "stream",
     "text": [
      "Train data shape: (10560, 10)\n",
      "Train target shape: (10560,)\n",
      "Test data shape: (2640, 10)\n",
      "Test target shape: (2640,)\n"
     ]
    }
   ],
   "source": [
    "from sklearn.model_selection import train_test_split\n",
    "\n",
    "otherFeatures = weatherDF.iloc[:, :-1]\n",
    "target = weatherDF['Weather Type']\n",
    "\n",
    "X_train, X_test, t_train, t_test = train_test_split(otherFeatures, target, test_size=0.2, random_state=0)\n",
    "\n",
    "print(\"Train data shape: {}\".format(X_train.shape))\n",
    "print(\"Train target shape: {}\".format(t_train.shape))\n",
    "print(\"Test data shape: {}\".format(X_test.shape))\n",
    "print(\"Test target shape: {}\".format(t_test.shape))"
   ]
  },
  {
   "cell_type": "markdown",
   "metadata": {
    "id": "qhQW32KFZbrO"
   },
   "source": [
    "# **Evaluation Function**\n",
    "\n",
    "To avoid repeating code, we created a reusable function that prints the Accuracy Scores, Classification Report, and Confusion Matrix Heatmap for any trained model. This makes it easier to compare multiple models and their performance in a consistent way."
   ]
  },
  {
   "cell_type": "code",
   "execution_count": 91,
   "metadata": {
    "id": "Ch3vs7cIZcEW"
   },
   "outputs": [],
   "source": [
    "from sklearn.metrics import classification_report, confusion_matrix\n",
    "import matplotlib.pyplot as plt\n",
    "\n",
    "def evaluate_model(model, X_train, t_train, X_test, t_test):\n",
    "    \"\"\"\n",
    "    Evaluates a trained classification model by printing accuracy, classification report,\n",
    "    and displaying a confusion matrix heatmap.\n",
    "\n",
    "    Parameters:\n",
    "    - model: trained classification model\n",
    "    - X_train, t_train: training features and labels\n",
    "    - X_test, t_test: testing features and labels\n",
    "    \"\"\"\n",
    "\n",
    "    # Calculate and print accuracy scores\n",
    "    train_score = model.score(X_train, t_train)\n",
    "    test_score = model.score(X_test, t_test)\n",
    "    print(f\"Train Accuracy: {train_score}\\nTest Accuracy: {test_score}\\n\")\n",
    "\n",
    "    # Predict and print classification report\n",
    "    y_pred = model.predict(X_test)\n",
    "    print(classification_report(t_test, y_pred))\n",
    "\n",
    "    # Confusion matrix heatmap\n",
    "    cm = confusion_matrix(t_test, y_pred)\n",
    "    plt.figure(figsize=(5, 4))\n",
    "    sns.heatmap(cm, annot=True, fmt = 'd')\n",
    "    plt.xlabel('Predicted')\n",
    "    plt.ylabel('True Values')\n",
    "    plt.show()"
   ]
  },
  {
   "cell_type": "markdown",
   "metadata": {
    "id": "BwMd7pdcA5BC"
   },
   "source": [
    "# **Model 1: GaussianNB**"
   ]
  },
  {
   "cell_type": "code",
   "execution_count": 94,
   "metadata": {
    "colab": {
     "base_uri": "https://localhost:8080/",
     "height": 687
    },
    "id": "psXxjNoY87bL",
    "outputId": "c5e9eaad-08c4-448d-b4d8-b9a0dd2254af"
   },
   "outputs": [
    {
     "name": "stdout",
     "output_type": "stream",
     "text": [
      "Train Accuracy: 0.8682765151515152\n",
      "Test Accuracy: 0.8765151515151515\n",
      "\n",
      "              precision    recall  f1-score   support\n",
      "\n",
      "           0       0.87      0.81      0.84       659\n",
      "           1       0.84      0.86      0.85       682\n",
      "           2       0.87      0.91      0.89       635\n",
      "           3       0.92      0.92      0.92       664\n",
      "\n",
      "    accuracy                           0.88      2640\n",
      "   macro avg       0.88      0.88      0.88      2640\n",
      "weighted avg       0.88      0.88      0.88      2640\n",
      "\n"
     ]
    },
    {
     "data": {
      "image/png": "[encoded data removed]",
      "text/plain": [
       "<Figure size 500x400 with 2 Axes>"
      ]
     },
     "metadata": {},
     "output_type": "display_data"
    }
   ],
   "source": [
    "from sklearn.naive_bayes import GaussianNB\n",
    "\n",
    "nb_model = GaussianNB()\n",
    "nb_model.fit(X_train, t_train)\n",
    "\n",
    "evaluate_model(nb_model, X_train, t_train, X_test, t_test)"
   ]
  },
  {
   "cell_type": "markdown",
   "metadata": {
    "id": "ueqn7Em_A_LN"
   },
   "source": [
    "# **Parameter Tuning - GaussianNB Model**\n",
    "\n",
    "The GaussianNB model has only one main hyperparameter to tune. I used GridSearchCV to search over the following parameter:\n",
    "\n",
    "- **var_smoothing** – Portion of the largest variance of all features added to variances for stability."
   ]
  },
  {
   "cell_type": "markdown",
   "metadata": {},
   "source": [
    "This is Irfans portion this portion is done"
   ]
  },
  {
   "cell_type": "code",
   "execution_count": 98,
   "metadata": {
    "colab": {
     "base_uri": "https://localhost:8080/",
     "height": 704
    },
    "id": "LvRpSGXx87bM",
    "outputId": "b7be97a2-af6f-418d-9ddc-ebf7dd60c216"
   },
   "outputs": [
    {
     "name": "stdout",
     "output_type": "stream",
     "text": [
      "{'var_smoothing': 1e-09}\n",
      "Train Accuracy: 0.8682765151515152\n",
      "Test Accuracy: 0.8765151515151515\n",
      "\n",
      "              precision    recall  f1-score   support\n",
      "\n",
      "           0       0.87      0.81      0.84       659\n",
      "           1       0.84      0.86      0.85       682\n",
      "           2       0.87      0.91      0.89       635\n",
      "           3       0.92      0.92      0.92       664\n",
      "\n",
      "    accuracy                           0.88      2640\n",
      "   macro avg       0.88      0.88      0.88      2640\n",
      "weighted avg       0.88      0.88      0.88      2640\n",
      "\n"
     ]
    },
    {
     "data": {
      "image/png": "[encoded data removed]",
      "text/plain": [
       "<Figure size 500x400 with 2 Axes>"
      ]
     },
     "metadata": {},
     "output_type": "display_data"
    }
   ],
   "source": [
    "from sklearn.model_selection import GridSearchCV\n",
    "from sklearn.naive_bayes import GaussianNB\n",
    "\n",
    "nb = GaussianNB()\n",
    "hyper_parameters = {\n",
    "    'var_smoothing': [1e-9, 1e-8, 1e-7, 1e-6, 1e-5, 1e-4, 1e-3]\n",
    "}\n",
    "\n",
    "gridSearch = GridSearchCV(nb, hyper_parameters, scoring = 'accuracy')\n",
    "gridSearch.fit(X_train, t_train)\n",
    "nb = GaussianNB(**gridSearch.best_params_)\n",
    "print(gridSearch.best_params_)\n",
    "nb.fit(X_train, t_train)\n",
    "\n",
    "# Using the Evaluation Function we created\n",
    "evaluate_model(nb, X_train, t_train, X_test, t_test)"
   ]
  },
  {
   "cell_type": "markdown",
   "metadata": {
    "id": "3gM72MqSAprs"
   },
   "source": [
    "# **Model 2: Random Forest**\n"
   ]
  },
  {
   "cell_type": "markdown",
   "metadata": {},
   "source": [
    "This is ethans portion and it is done"
   ]
  },
  {
   "cell_type": "code",
   "execution_count": null,
   "metadata": {
    "colab": {
     "base_uri": "https://localhost:8080/",
     "height": 679
    },
    "id": "3lpEkmxW_gEA",
    "outputId": "21510358-50aa-472f-b931-94e813bc4d42"
   },
   "outputs": [],
   "source": [
    "from sklearn.ensemble import RandomForestClassifier\n",
    "\n",
    "rf_model = RandomForestClassifier()\n",
    "rf_model.fit(X_train, t_train)\n",
    "\n",
    "evaluate_model(rf_model, X_train, t_train, X_test, t_test)"
   ]
  },
  {
   "cell_type": "markdown",
   "metadata": {
    "id": "mCZUTCBJBLXb"
   },
   "source": [
    "# **Parameter Tuning - Random Forest Model**\n",
    "\n",
    "The RandomForestClassifier offers many hyperparameters that affect both performance and overfitting. I used GridSearchCV to search over the following parameters:\n",
    "\n",
    "- **criterion** – Function to measure the quality of a split.\n",
    "- **max_depth** – Maximum depth of each tree.\n",
    "- **min_samples_split** – Minimum samples required to split a node.\n",
    "- **min_samples_leaf** – Minimum samples required at a leaf node.\n",
    "- **max_leaf_nodes** – Maximum number of leaf nodes per tree."
   ]
  },
  {
   "cell_type": "code",
   "execution_count": null,
   "metadata": {
    "colab": {
     "base_uri": "https://localhost:8080/",
     "height": 696
    },
    "id": "Uv2pBKT-AoSr",
    "outputId": "235c19c1-a344-4eb6-b1a1-c93d2fed6ffe"
   },
   "outputs": [],
   "source": [
    "from sklearn.model_selection import GridSearchCV\n",
    "from sklearn.ensemble import RandomForestClassifier\n",
    "rf_model = RandomForestClassifier()\n",
    "\n",
    "# Hyper-parameters that will be search for the best value\n",
    "hyper_parameters = {\n",
    "  \"criterion\": [\"gini\", \"entropy\"],\n",
    "  \"max_depth\": [5, 10],\n",
    "  \"min_samples_split\": [2, 5],\n",
    "  \"min_samples_leaf\": [1, 2],\n",
    "  \"max_leaf_nodes\": [10, 30, 50]\n",
    "}\n",
    "gridSearch = GridSearchCV(rf_model, hyper_parameters, scoring = 'accuracy')\n",
    "gridSearch.fit(X_train, t_train)\n",
    "rf_model = RandomForestClassifier(**gridSearch.best_params_)\n",
    "print(gridSearch.best_params_)\n",
    "rf_model.fit(X_train, t_train)\n",
    "\n",
    "evaluate_model(rf_model, X_train, t_train, X_test, t_test)"
   ]
  },
  {
   "cell_type": "markdown",
   "metadata": {
    "id": "3Kx2ORPkLrTE"
   },
   "source": [
    "# **Model 3: Logistic Regression**"
   ]
  },
  {
   "cell_type": "code",
   "execution_count": null,
   "metadata": {
    "id": "sNCeuc3bLvan"
   },
   "outputs": [],
   "source": [
    "#Ryan Crosby's work model 3 and parameter tuning \n",
    "from sklearn.preprocessing    import StandardScaler\n",
    "from sklearn.linear_model     import LogisticRegression\n",
    "from sklearn.multiclass       import OneVsRestClassifier\n",
    "\n",
    "# 1) Scale your data\n",
    "scaler         = StandardScaler()\n",
    "X_train_scaled = scaler.fit_transform(X_train)\n",
    "X_test_scaled  = scaler.transform(X_test)\n",
    "\n",
    "# 2) Wrap in OneVsRestClassifier \n",
    "lr_baseline = OneVsRestClassifier(\n",
    "    LogisticRegression(\n",
    "        solver='liblinear',   # OVR by default, no multi_class kwarg needed\n",
    "        max_iter=2000,        # bump up if you still see convergence warnings\n",
    "        random_state=42\n",
    "    )\n",
    ")\n",
    "\n",
    "# 3) evaluate\n",
    "lr_baseline.fit(X_train_scaled, t_train)\n",
    "evaluate_model(lr_baseline, X_train_scaled, t_train,\n",
    "               X_test_scaled,  t_test)\n",
    "\n"
   ]
  },
  {
   "cell_type": "markdown",
   "metadata": {
    "id": "zD1Bw79XMJsB"
   },
   "source": [
    "# **Parameter Tuning Model 3**"
   ]
  },
  {
   "cell_type": "code",
   "execution_count": null,
   "metadata": {
    "id": "Yew1QEzrMKCh"
   },
   "outputs": [],
   "source": [
    "from sklearn.preprocessing    import StandardScaler\n",
    "from sklearn.linear_model     import LogisticRegression\n",
    "from sklearn.model_selection  import GridSearchCV\n",
    "\n",
    "# 1) Scale data\n",
    "scaler         = StandardScaler()\n",
    "X_train_scaled = scaler.fit_transform(X_train)\n",
    "X_test_scaled  = scaler.transform(X_test)\n",
    "\n",
    "# 2) Base LR estimator \n",
    "base_lr = LogisticRegression(\n",
    "    solver='liblinear',  # OVR by default; supports l1 & l2 \n",
    "    max_iter=2000,       # boost iterations to avoid convergence issues\n",
    "    random_state=42\n",
    ")\n",
    "\n",
    "# 3) Hyperparameter grid \n",
    "param_grid = {\n",
    "    'C':       [0.01, 0.1, 1, 10, 100],\n",
    "    'penalty': ['l1','l2'],\n",
    "    'solver':  ['liblinear']\n",
    "}\n",
    "\n",
    "# 4) Grid search on scaled data\n",
    "grid_lr = GridSearchCV(\n",
    "    base_lr,\n",
    "    param_grid,\n",
    "    cv=5,\n",
    "    scoring='accuracy',\n",
    "    n_jobs=-1\n",
    ")\n",
    "grid_lr.fit(X_train_scaled, t_train)\n",
    "\n",
    "print(\"Best parameters for Model 3:\", grid_lr.best_params_)\n",
    "\n",
    "# 5) Re‐fit tuned model \n",
    "lr_tuned = LogisticRegression(\n",
    "    **grid_lr.best_params_,\n",
    "    max_iter=2000,\n",
    "    random_state=42\n",
    ")\n",
    "lr_tuned.fit(X_train_scaled, t_train)\n",
    "\n",
    "# 6) Evaluate on the *scaled* test set\n",
    "evaluate_model(\n",
    "    lr_tuned,\n",
    "    X_train_scaled, t_train,\n",
    "    X_test_scaled,  t_test\n",
    ")\n"
   ]
  },
  {
   "cell_type": "markdown",
   "metadata": {
    "id": "7o7Rgk32My7s"
   },
   "source": [
    "# **Model 4: LightGBM**"
   ]
  },
  {
   "cell_type": "code",
   "execution_count": 101,
   "metadata": {},
   "outputs": [
    {
     "name": "stdout",
     "output_type": "stream",
     "text": [
      "Requirement already satisfied: lightgbm in /opt/anaconda3/lib/python3.12/site-packages (4.6.0)\n",
      "Requirement already satisfied: numpy>=1.17.0 in /opt/anaconda3/lib/python3.12/site-packages (from lightgbm) (1.26.4)\n",
      "Requirement already satisfied: scipy in /opt/anaconda3/lib/python3.12/site-packages (from lightgbm) (1.13.1)\n"
     ]
    }
   ],
   "source": [
    "!pip install lightgbm\n"
   ]
  },
  {
   "cell_type": "code",
   "execution_count": 102,
   "metadata": {
    "id": "pUPhQEkkM0Y7"
   },
   "outputs": [
    {
     "name": "stdout",
     "output_type": "stream",
     "text": [
      "Baseline LightGBM Evaluation:\n",
      "[LightGBM] [Warning] Found whitespace in feature_names, replace with underlines\n",
      "[LightGBM] [Info] Total Bins 723\n",
      "[LightGBM] [Info] Number of data points in the train set: 10560, number of used features: 10\n",
      "[LightGBM] [Info] Start training from score -1.385916\n",
      "[LightGBM] [Info] Start training from score -1.394663\n",
      "[LightGBM] [Info] Start training from score -1.376869\n",
      "[LightGBM] [Info] Start training from score -1.387811\n",
      "Train Accuracy: 0.9997159090909091\n",
      "Test Accuracy: 0.921969696969697\n",
      "\n",
      "              precision    recall  f1-score   support\n",
      "\n",
      "           0       0.92      0.90      0.91       659\n",
      "           1       0.90      0.92      0.91       682\n",
      "           2       0.92      0.94      0.93       635\n",
      "           3       0.95      0.94      0.94       664\n",
      "\n",
      "    accuracy                           0.92      2640\n",
      "   macro avg       0.92      0.92      0.92      2640\n",
      "weighted avg       0.92      0.92      0.92      2640\n",
      "\n"
     ]
    },
    {
     "data": {
      "image/png": "[encoded data removed]",
      "text/plain": [
       "<Figure size 500x400 with 2 Axes>"
      ]
     },
     "metadata": {},
     "output_type": "display_data"
    }
   ],
   "source": [
    "from lightgbm import LGBMClassifier\n",
    "\n",
    "# Baseline LightGBM\n",
    "print(\"Baseline LightGBM Evaluation:\")\n",
    "lgb_baseline = LGBMClassifier(random_state=42, force_col_wise=True)  # Suppress threading message\n",
    "lgb_baseline.fit(X_train, t_train)\n",
    "evaluate_model(lgb_baseline, X_train, t_train, X_test, t_test)"
   ]
  },
  {
   "cell_type": "markdown",
   "metadata": {
    "id": "FWf8tbDuM01T"
   },
   "source": [
    "# **Parameter Tuning Model 4**"
   ]
  },
  {
   "cell_type": "code",
   "execution_count": 106,
   "metadata": {
    "id": "S6-vd2NENC9e"
   },
   "outputs": [
    {
     "name": "stdout",
     "output_type": "stream",
     "text": [
      "Tuning LightGBM...\n",
      "[LightGBM] [Warning] Found whitespace in feature_names, replace with underlines\n",
      "[LightGBM] [Info] Total Bins 720\n",
      "[LightGBM] [Info] Number of data points in the train set: 8448, number of used features: 10\n",
      "[LightGBM] [Info] Start training from score -1.385821\n",
      "[LightGBM] [Info] Start training from score -1.394376\n",
      "[LightGBM] [Info] Start training from score -1.376869\n",
      "[LightGBM] [Info] Start training from score -1.388190\n",
      "[LightGBM] [Warning] Found whitespace in feature_names, replace with underlines\n",
      "[LightGBM] [Info] Total Bins 716\n",
      "[LightGBM] [Info] Number of data points in the train set: 8448, number of used features: 10\n",
      "[LightGBM] [Info] Start training from score -1.386294\n",
      "[LightGBM] [Info] Start training from score -1.394376\n",
      "[LightGBM] [Info] Start training from score -1.376869\n",
      "[LightGBM] [Info] Start training from score -1.387716\n",
      "[LightGBM] [Warning] Found whitespace in feature_names, replace with underlines\n",
      "[LightGBM] [Info] Total Bins 716\n",
      "[LightGBM] [Info] Number of data points in the train set: 8448, number of used features: 10\n",
      "[LightGBM] [Info] Start training from score -1.385821\n",
      "[LightGBM] [Info] Start training from score -1.394854\n",
      "[LightGBM] [Info] Start training from score -1.376869\n",
      "[LightGBM] [Info] Start training from score -1.387716\n",
      "[LightGBM] [Warning] Found whitespace in feature_names, replace with underlines\n",
      "[LightGBM] [Info] Total Bins 720\n",
      "[LightGBM] [Info] Number of data points in the train set: 8448, number of used features: 10\n",
      "[LightGBM] [Info] Start training from score -1.385821\n",
      "[LightGBM] [Info] Start training from score -1.394854\n",
      "[LightGBM] [Info] Start training from score -1.376869\n",
      "[LightGBM] [Info] Start training from score -1.387716\n",
      "[LightGBM] [Warning] Found whitespace in feature_names, replace with underlines\n",
      "[LightGBM] [Info] Total Bins 719\n",
      "[LightGBM] [Info] Number of data points in the train set: 8448, number of used features: 10\n",
      "[LightGBM] [Info] Start training from score -1.385821\n",
      "[LightGBM] [Info] Start training from score -1.394854\n",
      "[LightGBM] [Info] Start training from score -1.376869\n",
      "[LightGBM] [Info] Start training from score -1.387716\n",
      "[LightGBM] [Warning] Found whitespace in feature_names, replace with underlines\n",
      "[LightGBM] [Info] Total Bins 720\n",
      "[LightGBM] [Info] Number of data points in the train set: 8448, number of used features: 10\n",
      "[LightGBM] [Info] Start training from score -1.385821\n",
      "[LightGBM] [Info] Start training from score -1.394376\n",
      "[LightGBM] [Info] Start training from score -1.376869\n",
      "[LightGBM] [Info] Start training from score -1.388190\n",
      "[LightGBM] [Warning] Found whitespace in feature_names, replace with underlines\n",
      "[LightGBM] [Info] Total Bins 716\n",
      "[LightGBM] [Info] Number of data points in the train set: 8448, number of used features: 10\n",
      "[LightGBM] [Info] Start training from score -1.386294\n",
      "[LightGBM] [Info] Start training from score -1.394376\n",
      "[LightGBM] [Info] Start training from score -1.376869\n",
      "[LightGBM] [Info] Start training from score -1.387716\n",
      "[LightGBM] [Warning] Found whitespace in feature_names, replace with underlines\n",
      "[LightGBM] [Info] Total Bins 716\n",
      "[LightGBM] [Info] Number of data points in the train set: 8448, number of used features: 10\n",
      "[LightGBM] [Info] Start training from score -1.385821\n",
      "[LightGBM] [Info] Start training from score -1.394854\n",
      "[LightGBM] [Info] Start training from score -1.376869\n",
      "[LightGBM] [Info] Start training from score -1.387716\n",
      "[LightGBM] [Warning] Found whitespace in feature_names, replace with underlines\n",
      "[LightGBM] [Info] Total Bins 720\n",
      "[LightGBM] [Info] Number of data points in the train set: 8448, number of used features: 10\n",
      "[LightGBM] [Info] Start training from score -1.385821\n",
      "[LightGBM] [Info] Start training from score -1.394854\n",
      "[LightGBM] [Info] Start training from score -1.376869\n",
      "[LightGBM] [Info] Start training from score -1.387716\n",
      "[LightGBM] [Warning] Found whitespace in feature_names, replace with underlines\n",
      "[LightGBM] [Info] Total Bins 719\n",
      "[LightGBM] [Info] Number of data points in the train set: 8448, number of used features: 10\n",
      "[LightGBM] [Info] Start training from score -1.385821\n",
      "[LightGBM] [Info] Start training from score -1.394854\n",
      "[LightGBM] [Info] Start training from score -1.376869\n",
      "[LightGBM] [Info] Start training from score -1.387716\n",
      "[LightGBM] [Warning] Found whitespace in feature_names, replace with underlines\n",
      "[LightGBM] [Info] Total Bins 723\n",
      "[LightGBM] [Info] Number of data points in the train set: 10560, number of used features: 10\n",
      "[LightGBM] [Info] Start training from score -1.385916\n",
      "[LightGBM] [Info] Start training from score -1.394663\n",
      "[LightGBM] [Info] Start training from score -1.376869\n",
      "[LightGBM] [Info] Start training from score -1.387811\n",
      "Best Parameters: {'learning_rate': 0.1, 'n_estimators': 100, 'num_leaves': 20}\n",
      "Tuned LightGBM Evaluation:\n",
      "[LightGBM] [Warning] Found whitespace in feature_names, replace with underlines\n",
      "[LightGBM] [Info] Total Bins 723\n",
      "[LightGBM] [Info] Number of data points in the train set: 10560, number of used features: 10\n",
      "[LightGBM] [Info] Start training from score -1.385916\n",
      "[LightGBM] [Info] Start training from score -1.394663\n",
      "[LightGBM] [Info] Start training from score -1.376869\n",
      "[LightGBM] [Info] Start training from score -1.387811\n",
      "Train Accuracy: 0.9952651515151515\n",
      "Test Accuracy: 0.9246212121212121\n",
      "\n",
      "              precision    recall  f1-score   support\n",
      "\n",
      "           0       0.92      0.90      0.91       659\n",
      "           1       0.91      0.92      0.92       682\n",
      "           2       0.92      0.93      0.93       635\n",
      "           3       0.94      0.94      0.94       664\n",
      "\n",
      "    accuracy                           0.92      2640\n",
      "   macro avg       0.92      0.92      0.92      2640\n",
      "weighted avg       0.92      0.92      0.92      2640\n",
      "\n"
     ]
    },
    {
     "data": {
      "image/png": "[encoded data removed]",
      "text/plain": [
       "<Figure size 500x400 with 2 Axes>"
      ]
     },
     "metadata": {},
     "output_type": "display_data"
    }
   ],
   "source": [
    "from lightgbm import LGBMClassifier\n",
    "from sklearn.model_selection import GridSearchCV\n",
    "\n",
    "# Hyperparameter tuning\n",
    "hyper_parameters = {\n",
    "    'num_leaves': [20, 31],  # Reduced grid for faster tuning\n",
    "    'learning_rate': [0.1],  # 0.1 was best in prior run\n",
    "    'n_estimators': [100]    # 100 was best in prior run\n",
    "}\n",
    "\n",
    "print(\"Tuning LightGBM...\")\n",
    "lgb_base = LGBMClassifier(random_state=42, force_col_wise=True)\n",
    "grid_search = GridSearchCV(lgb_base, hyper_parameters, scoring='accuracy', cv=5)\n",
    "grid_search.fit(X_train, t_train)\n",
    "print(\"Best Parameters:\", grid_search.best_params_)\n",
    "\n",
    "# Tuned LightGBM\n",
    "print(\"Tuned LightGBM Evaluation:\")\n",
    "lgb_tuned = LGBMClassifier(**grid_search.best_params_, random_state=42, force_col_wise=True)\n",
    "lgb_tuned.fit(X_train, t_train)\n",
    "evaluate_model(lgb_tuned, X_train, t_train, X_test, t_test)"
   ]
  },
  {
   "cell_type": "markdown",
   "metadata": {
    "id": "6d2gJUfiM7xD"
   },
   "source": [
    "# **Model 5: SVM**"
   ]
  },
  {
   "cell_type": "code",
   "execution_count": 41,
   "metadata": {},
   "outputs": [
    {
     "name": "stdout",
     "output_type": "stream",
     "text": [
      "Train Accuracy: 0.8240530303030303\n",
      "Test Accuracy: 0.8378787878787879\n",
      "\n",
      "              precision    recall  f1-score   support\n",
      "\n",
      "           0       0.86      0.75      0.80       659\n",
      "           1       0.76      0.88      0.81       682\n",
      "           2       0.85      0.77      0.81       635\n",
      "           3       0.90      0.95      0.92       664\n",
      "\n",
      "    accuracy                           0.84      2640\n",
      "   macro avg       0.84      0.84      0.84      2640\n",
      "weighted avg       0.84      0.84      0.84      2640\n",
      "\n"
     ]
    },
    {
     "data": {
      "image/png": "[encoded data removed]",
      "text/plain": [
       "<Figure size 500x400 with 2 Axes>"
      ]
     },
     "metadata": {},
     "output_type": "display_data"
    }
   ],
   "source": [
    "from sklearn.svm import SVC\n",
    "\n",
    "svm_base = SVC()\n",
    "svm_base.fit(X_train, t_train)\n",
    "\n",
    "evaluate_model(svm_base, X_train, t_train, X_test, t_test)"
   ]
  },
  {
   "cell_type": "markdown",
   "metadata": {
    "id": "3g9oa9JVNGRW"
   },
   "source": [
    "# **Parameter Tuning Model 5**"
   ]
  },
  {
   "cell_type": "markdown",
   "metadata": {},
   "source": [
    "The Support Vector Model offers many hyperparameters that affect both performance and overfitting. I used GridSearchCV to search over the following parameters:\n",
    "\n",
    "- **Kernel** – The type of kernel we are using to make a hyperplane of the data to a higher-dimensional space.\n",
    "- **Gamma** – How much curvature we want in a decision boundary.\n",
    "- **C** – How much error we are allowing the model to have."
   ]
  },
  {
   "cell_type": "code",
   "execution_count": 60,
   "metadata": {},
   "outputs": [
    {
     "name": "stdout",
     "output_type": "stream",
     "text": [
      "{'C': 10, 'gamma': 0.001, 'kernel': 'rbf'}\n",
      "Train Accuracy: 0.98125\n",
      "Test Accuracy: 0.915530303030303\n",
      "\n",
      "              precision    recall  f1-score   support\n",
      "\n",
      "           0       0.89      0.87      0.88       659\n",
      "           1       0.90      0.93      0.91       682\n",
      "           2       0.92      0.93      0.92       635\n",
      "           3       0.96      0.93      0.95       664\n",
      "\n",
      "    accuracy                           0.92      2640\n",
      "   macro avg       0.92      0.92      0.92      2640\n",
      "weighted avg       0.92      0.92      0.92      2640\n",
      "\n"
     ]
    },
    {
     "data": {
      "image/png": "[encoded data removed]",
      "text/plain": [
       "<Figure size 500x400 with 2 Axes>"
      ]
     },
     "metadata": {},
     "output_type": "display_data"
    }
   ],
   "source": [
    "from sklearn.model_selection import GridSearchCV\n",
    "from sklearn.svm import SVC\n",
    "\n",
    "# defining parameter range \n",
    "hyper_parameters = {\n",
    "    'C': [0.1, 0.5, 1, 5, 7, 10],\n",
    "    'gamma': [1, 0.1, 0.01, 0.005, 0.001, 0.0005, 5, 10],\n",
    "    'kernel': ['rbf']\n",
    "}  \n",
    "\n",
    "grid_SVM = GridSearchCV(SVC(), hyper_parameters, scoring = 'accuracy') \n",
    "grid_SVM.fit(X_train, t_train) \n",
    "SVM = SVC(**grid_SVM.best_params_)\n",
    "print(grid_SVM.best_params_)\n",
    "SVM.fit(X_train, t_train)\n",
    "\n",
    "evaluate_model(SVM, X_train, t_train, X_test, t_test)"
   ]
  },
  {
   "cell_type": "markdown",
   "metadata": {},
   "source": [
    "# **Model 6: KNN**"
   ]
  },
  {
   "cell_type": "code",
   "execution_count": null,
   "metadata": {},
   "outputs": [],
   "source": [
    "from sklearn.neighbors import KNeighborsClassifier\n",
    "\n",
    "knn_baseline = KNeighborsClassifier()\n",
    "knn_baseline.fit(X_train, t_train)\n",
    "\n",
    "evaluate_model(knn_baseline, X_train, t_train, X_test, t_test)"
   ]
  },
  {
   "cell_type": "markdown",
   "metadata": {},
   "source": [
    "# **Parameter Tuning - KNN**"
   ]
  },
  {
   "cell_type": "markdown",
   "metadata": {},
   "source": [
    "The K-Nearest Neighbor models has a few hyper parameters that I am able to evaluate. \n",
    "\n",
    "- **n_neighbors** - Determines the number of neighbors the model will look at before continuing.\n",
    "- **weights** - Dictates how the amount of neighbors determines the predictions. With 'uniform' having all a single weight and 'distance' having weight change based on number of neighbors.\n",
    "- **metric** - Set the method on how distance is between neighbors is calculated. With 'euclidean' being more linear and 'manhattan' being more grid like. \n"
   ]
  },
  {
   "cell_type": "code",
   "execution_count": null,
   "metadata": {},
   "outputs": [],
   "source": [
    "from sklearn.model_selection import GridSearchCV\n",
    "from sklearn.neighbors import KNeighborsClassifier\n",
    "\n",
    "# Hyper-parameters\n",
    "hyper_parameters = {\n",
    "    'n_neighbors': [3, 5, 7, 9],\n",
    "    'weights': ['uniform', 'distance'],\n",
    "    'metric': ['euclidean', 'manhattan']\n",
    "}\n",
    "\n",
    "\n",
    "gridSearch = GridSearchCV(knn_baseline, hyper_parameters, scoring='accuracy')\n",
    "gridSearch.fit(X_train, t_train)\n",
    "knn = KNeighborsClassifier(**gridSearch.best_params_)\n",
    "print(gridSearch.best_params_)\n",
    "knn.fit(X_train, t_train)\n",
    "\n",
    "# Evaluate the model\n",
    "evaluate_model(knn, X_train, t_train, X_test, t_test)"
   ]
  },
  {
   "cell_type": "code",
   "execution_count": null,
   "metadata": {},
   "outputs": [],
   "source": []
  }
 ],
 "metadata": {
  "accelerator": "GPU",
  "colab": {
   "gpuType": "T4",
   "provenance": []
  },
  "kernelspec": {
   "display_name": "Python [conda env:ITCS3162]",
   "language": "python",
   "name": "conda-env-ITCS3162-py"
  },
  "language_info": {
   "codemirror_mode": {
    "name": "ipython",
    "version": 3
   },
   "file_extension": ".py",
   "mimetype": "text/x-python",
   "name": "python",
   "nbconvert_exporter": "python",
   "pygments_lexer": "ipython3",
   "version": "3.12.8"
  }
 },
 "nbformat": 4,
 "nbformat_minor": 4
}
